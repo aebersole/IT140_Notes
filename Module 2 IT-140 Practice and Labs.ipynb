{
 "cells": [
  {
   "cell_type": "code",
   "execution_count": 6,
   "metadata": {},
   "outputs": [
    {
     "name": "stdout",
     "output_type": "stream",
     "text": [
      "17.8\n"
     ]
    }
   ],
   "source": [
    "user_ages = [40,29,11,6,3]\n",
    "\n",
    "avg_ages = sum(user_ages)/len(user_ages)\n",
    "\n",
    "print(avg_ages)"
   ]
  },
  {
   "cell_type": "code",
   "execution_count": 18,
   "metadata": {
    "scrolled": true
   },
   "outputs": [
    {
     "name": "stdout",
     "output_type": "stream",
     "text": [
      "Welcome to Adam's magical, mystical birth year predictor 5000!\n",
      "What is your name? Adam\n",
      "Thanks Adam! Now please tell me your age. 19\n",
      "19? Wow, that's old!\n",
      "Last question, can you please enter the number of your birth month? ex: 1-12 11\n",
      "Now with the power of magic, and a bit of science, I know you were born in 2000!\n"
     ]
    }
   ],
   "source": [
    "#To calibrate the program please enter current year in 4 digits ex: 2010 and current month ex 1-12\n",
    "current_year = 2020   \n",
    "current_month = 11    \n",
    "\n",
    "print('Welcome to Adam\\'s magical, mystical birth year predictor 5000!')\n",
    "print('What is your name?', end=' ')\n",
    "user_name = input()\n",
    "print('Thanks', user_name + '! Now please tell me your age.', end=' ')\n",
    "user_age = int(input())\n",
    "print(str(user_age) + '?' ' ' 'Wow, that\\'s old!')\n",
    "print('Last question, can you please enter the number of your birth month? ex: 1-12', end=' ')\n",
    "birth_month = int(input())\n",
    "\n",
    "birth_year = current_year - user_age          \n",
    "adjusted_year = (current_year - 1) - user_age \n",
    "\n",
    "if birth_month < current_month:\n",
    "    print('Now with the power of magic, and a bit of science, I know you were born in', str(birth_year) + '!')\n",
    "else:\n",
    "    print('Now with the power of magic, and a bit of science, I know you were born in', str(adjusted_year) + '!')"
   ]
  },
  {
   "cell_type": "code",
   "execution_count": 5,
   "metadata": {},
   "outputs": [
    {
     "name": "stdout",
     "output_type": "stream",
     "text": [
      "d1 = 04/11/2020\n"
     ]
    }
   ],
   "source": [
    "from datetime import date\n",
    "\n",
    "# dd/mm/YY\n",
    "d1 = today.strftime(\"%d/%m/%Y\")\n",
    "print(\"d1 =\", d1)"
   ]
  },
  {
   "cell_type": "code",
   "execution_count": 6,
   "metadata": {},
   "outputs": [
    {
     "name": "stdout",
     "output_type": "stream",
     "text": [
      "Current year: 2020\n",
      "Current month: 11\n",
      "Current day: 4\n"
     ]
    }
   ],
   "source": [
    "\n",
    "from datetime import date\n",
    "\n",
    "# date object of today's date\n",
    "today = date.today() \n",
    "\n",
    "print(\"Current year:\", today.year)\n",
    "print(\"Current month:\", today.month)\n",
    "print(\"Current day:\", today.day)"
   ]
  },
  {
   "cell_type": "code",
   "execution_count": 3,
   "metadata": {},
   "outputs": [
    {
     "name": "stdout",
     "output_type": "stream",
     "text": [
      "Welcome to Adam's magical, mystical birth year predictor 5000!\n",
      "What is your name? Adam\n",
      "Thanks Adam! Now please tell me your age. 40\n",
      "40? Wow, that's old!\n",
      "Last question, can you please enter the number of your birth month? ex: 1-12 9\n",
      "Now with the power of magic, and a bit of science, I know you were born in 1980!\n"
     ]
    }
   ],
   "source": [
    "\n",
    "from datetime import date\n",
    "today = date.today()\n",
    "\n",
    "print('Welcome to Adam\\'s magical, mystical birth year predictor 5000!')\n",
    "print('What is your name?', end=' ')\n",
    "user_name = input()\n",
    "print('Thanks', user_name + '! Now please tell me your age.', end=' ')\n",
    "user_age = int(input())\n",
    "print(str(user_age) + '?' ' ' 'Wow, that\\'s old!')\n",
    "print('Last question, can you please enter the number of your birth month? ex: 1-12', end=' ')\n",
    "birth_month = int(input())\n",
    "\n",
    "birth_year = today.year - user_age          \n",
    "adjusted_year = (today.year - 1) - user_age \n",
    "\n",
    "if birth_month < today.month:\n",
    "    print('Now with the power of magic, and a bit of science, I know you were born in', str(birth_year) + '!')\n",
    "else:\n",
    "    print('Now with the power of magic, and a bit of science, I know you were born in', str(adjusted_year) + '!')"
   ]
  },
  {
   "cell_type": "code",
   "execution_count": 2,
   "metadata": {},
   "outputs": [
    {
     "name": "stdout",
     "output_type": "stream",
     "text": [
      "Player Name     Goals   \n",
      "------------------------\n",
      "Sadio Mane            22\n",
      "Gabriel Jesus          7\n"
     ]
    }
   ],
   "source": [
    "format_string = '{name:16}{goals:8}'\n",
    "print(format_string.format(name='Player Name', goals='Goals'))\n",
    "print('-' * 24)\n",
    "\n",
    "print(format_string.format(name='Sadio Mane', goals=22))\n",
    "print(format_string.format(name='Gabriel Jesus', goals=7))"
   ]
  },
  {
   "cell_type": "code",
   "execution_count": 6,
   "metadata": {},
   "outputs": [
    {
     "name": "stdout",
     "output_type": "stream",
     "text": [
      "36.4158102\n",
      "36.4C\n"
     ]
    }
   ],
   "source": [
    "air_temperature = float(input())\n",
    "print('{x:.1f}C'.format(x=air_temperature))"
   ]
  },
  {
   "cell_type": "markdown",
   "metadata": {},
   "source": [
    "Many documents use a specific format for a person's name. Write a program whose input is:\n",
    "\n",
    "firstName middleName lastName\n",
    "\n",
    "and whose output is:\n",
    "\n",
    "lastName, firstInitial.middleInitial."
   ]
  },
  {
   "cell_type": "code",
   "execution_count": 15,
   "metadata": {},
   "outputs": [
    {
     "name": "stdout",
     "output_type": "stream",
     "text": [
      "Adam Robert Ebersole\n",
      "Ebersole, A.R.\n"
     ]
    }
   ],
   "source": [
    "inputName = input()\n",
    "nameTokens = inputName.split(\" \")  \n",
    "if(len(nameTokens) == 3):\n",
    "   print(nameTokens[2] + ', ' + nameTokens[0][0] + '.' + nameTokens[1][0] + '.')\n",
    "elif(len(nameTokens) == 2):\n",
    "   print(nameTokens[1] + ', ' + nameTokens[0][0] + '.')\n",
    "else:\n",
    "   print(\"Invalid name\")\n"
   ]
  },
  {
   "cell_type": "code",
   "execution_count": 42,
   "metadata": {},
   "outputs": [
    {
     "name": "stdout",
     "output_type": "stream",
     "text": [
      "z Today is Monday\n",
      "0\n"
     ]
    }
   ],
   "source": [
    "user_input = input()\n",
    "num_occurances = user_input.count(user_input[0], 1)\n",
    "\n",
    "print(num_occurances)"
   ]
  },
  {
   "cell_type": "code",
   "execution_count": 58,
   "metadata": {},
   "outputs": [
    {
     "name": "stdout",
     "output_type": "stream",
     "text": [
      "Enter favorite color:\n",
      "yellow\n",
      "Enter pet's name:\n",
      "Daisy\n",
      "Enter a number:\n",
      "6\n",
      "You entered: yellow Daisy 6\n",
      "\n",
      "First password: yellow_Daisy\n",
      "Second password: 6yellow6\n",
      "\n",
      "Number of characters in yellow_Daisy: 12\n",
      "Number of characters in 6yellow6: 8\n"
     ]
    }
   ],
   "source": [
    "# FIXME (1): Finish reading another word and an integer into variables. \n",
    "# Output all the values on a single line\n",
    "favorite_color = input('Enter favorite color:\\n')\n",
    "pets_name = input('Enter pet\\'s name:\\n')\n",
    "user_num = int(input('Enter a number:\\n'))\n",
    "print('You entered:', favorite_color, pets_name, user_num)\n",
    "\n",
    "# FIXME (2): Output two password options\n",
    "password1 = favorite_color + '_' + pets_name\n",
    "password2 = str(user_num) + favorite_color + str(user_num)\n",
    "print('\\nFirst password:', password1)\n",
    "print('Second password:', password2)\n",
    "\n",
    "\n",
    "# FIXME (3): Output the length of the two password options\n",
    "print('\\nNumber of characters in', password1 + ':', len(password1))\n",
    "print('Number of characters in', password2 + ':', len(password2))\n"
   ]
  },
  {
   "cell_type": "code",
   "execution_count": null,
   "metadata": {},
   "outputs": [],
   "source": []
  }
 ],
 "metadata": {
  "kernelspec": {
   "display_name": "Python 3",
   "language": "python",
   "name": "python3"
  },
  "language_info": {
   "codemirror_mode": {
    "name": "ipython",
    "version": 3
   },
   "file_extension": ".py",
   "mimetype": "text/x-python",
   "name": "python",
   "nbconvert_exporter": "python",
   "pygments_lexer": "ipython3",
   "version": "3.8.3"
  }
 },
 "nbformat": 4,
 "nbformat_minor": 4
}
