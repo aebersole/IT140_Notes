{
 "cells": [
  {
   "cell_type": "code",
   "execution_count": 1,
   "metadata": {},
   "outputs": [
    {
     "name": "stdout",
     "output_type": "stream",
     "text": [
      "20\n",
      "10.0\n",
      "5.0\n",
      "2.5\n",
      "1.25\n",
      "0.625\n"
     ]
    }
   ],
   "source": [
    "user_num = int(input())\n",
    "while user_num>=1:\n",
    "    print(user_num/2)\n",
    "    user_num = user_num/2"
   ]
  },
  {
   "cell_type": "code",
   "execution_count": 3,
   "metadata": {},
   "outputs": [
    {
     "name": "stdout",
     "output_type": "stream",
     "text": [
      "8\n",
      "8 16 32 64 "
     ]
    }
   ],
   "source": [
    "num_insects = int(input()) # Must be >= 1\n",
    "\n",
    "while num_insects <= 100:        \n",
    "  print(num_insects,'', end=\"\")\n",
    "  num_insects = num_insects * 2\n",
    "# print(\"\")\n"
   ]
  },
  {
   "cell_type": "code",
   "execution_count": null,
   "metadata": {},
   "outputs": [],
   "source": [
    "# Solution for contact emails practice\n",
    "\n",
    "contact_emails = {\n",
    "    'Sue Reyn' : 's.reyn@email.com',\n",
    "    'Mike Filt': 'mike.filt@bmail.com',\n",
    "    'Nate Arty': 'narty042@nmail.com'\n",
    "}\n",
    "\n",
    "new_contact = input()\n",
    "new_email = input()\n",
    "contact_emails[new_contact] = new_email\n",
    "\n",
    "for c in contact_emails:\n",
    "    print('{} is {}'.format(contact_emails[c], c))"
   ]
  },
  {
   "cell_type": "code",
   "execution_count": 1,
   "metadata": {},
   "outputs": [
    {
     "name": "stdout",
     "output_type": "stream",
     "text": [
      "0 2 4 6 8 "
     ]
    }
   ],
   "source": [
    "for i in range(0, 5):\n",
    "    print(i * 2, end=' ')\n",
    "    "
   ]
  },
  {
   "cell_type": "code",
   "execution_count": 2,
   "metadata": {},
   "outputs": [
    {
     "name": "stdout",
     "output_type": "stream",
     "text": [
      "0 -1 -2 "
     ]
    }
   ],
   "source": [
    "\n",
    "for i in range(0, -3, -1):\n",
    "    print(i, end=' ')"
   ]
  },
  {
   "cell_type": "code",
   "execution_count": 3,
   "metadata": {},
   "outputs": [
    {
     "name": "stdout",
     "output_type": "stream",
     "text": [
      "Enter an integer (negative to quit):\n",
      "5\n",
      "Depicted graphically:\n",
      "* * * * * \n",
      "\n",
      "Enter an integer (negative to quit):\n",
      "10\n",
      "Depicted graphically:\n",
      "* * * * * * * * * * \n",
      "\n",
      "Enter an integer (negative to quit):\n",
      "-1\n",
      "Goodbye.\n"
     ]
    }
   ],
   "source": [
    "num = 0\n",
    "while num >= 0:\n",
    "    num = int(input('Enter an integer (negative to quit):\\n'))\n",
    "\n",
    "    if num >= 0:\n",
    "        print('Depicted graphically:')\n",
    "        for i in range(num):\n",
    "            print('*', end=' ')\n",
    "        print('\\n')\n",
    "\n",
    "print('Goodbye.')"
   ]
  },
  {
   "cell_type": "code",
   "execution_count": 4,
   "metadata": {},
   "outputs": [
    {
     "name": "stdout",
     "output_type": "stream",
     "text": [
      "aa ab ac "
     ]
    }
   ],
   "source": [
    "c1 = 'a'\n",
    "while c1 < 'b':\n",
    "    c2 = 'a'\n",
    "    while c2 <= 'c':\n",
    "        print('{}{}'.format(c1, c2), end=' ')\n",
    "        c2 = chr(ord(c2) + 1)\n",
    "    c1 = chr(ord(c1) + 1)"
   ]
  },
  {
   "cell_type": "code",
   "execution_count": 5,
   "metadata": {},
   "outputs": [
    {
     "name": "stdout",
     "output_type": "stream",
     "text": [
      "13 16 19 113 116 119 "
     ]
    }
   ],
   "source": [
    "i1 = 1\n",
    "while i1 < 19:\n",
    "    i2 = 3\n",
    "    while i2 <= 9:\n",
    "        print('{}{}'.format(i1,i2), end=' ')\n",
    "        i2 = i2 + 3\n",
    "    i1 = i1 + 10"
   ]
  },
  {
   "cell_type": "code",
   "execution_count": 2,
   "metadata": {},
   "outputs": [
    {
     "name": "stdout",
     "output_type": "stream",
     "text": [
      "Listen, Mr. Jones, calm down.\n",
      "21\n"
     ]
    }
   ],
   "source": [
    "# Counting length minus spaces and punctuation\n",
    "\n",
    "user_text = input()\n",
    "\n",
    "print(len(user_text.replace(\",\", \"\").replace(\".\", \"\").replace(\" \",\"\")))\n"
   ]
  },
  {
   "cell_type": "code",
   "execution_count": 13,
   "metadata": {},
   "outputs": [
    {
     "name": "stdout",
     "output_type": "stream",
     "text": [
      "mypassword\n",
      "Myp@ssw.rdq*s\n"
     ]
    }
   ],
   "source": [
    "# Solution for password generator\n",
    "\n",
    "word = input()\n",
    "password = word.replace(\"i\", \"!\").replace(\"a\", \"@\").replace(\"m\",\"M\").replace(\"B\", \"8\").replace(\"o\", \".\")\n",
    "append = \"q*s\"\n",
    "print(password + append)\n"
   ]
  },
  {
   "cell_type": "code",
   "execution_count": 15,
   "metadata": {},
   "outputs": [
    {
     "name": "stdout",
     "output_type": "stream",
     "text": [
      "Enter a character:\n",
      "%\n",
      "Enter triangle height:\n",
      "7\n",
      "\n",
      "* \n",
      "* * \n",
      "* * * \n"
     ]
    }
   ],
   "source": [
    "triangle_char = input('Enter a character:\\n')\n",
    "triangle_height = int(input('Enter triangle height:\\n'))\n",
    "print('')\n",
    "\n",
    "print ('* ')\n",
    "print ('* * ')\n",
    "print ('* * * ')\n"
   ]
  },
  {
   "cell_type": "code",
   "execution_count": 1,
   "metadata": {},
   "outputs": [
    {
     "name": "stdout",
     "output_type": "stream",
     "text": [
      "Enter a character:\n",
      "#\n",
      "Enter triangle height:\n",
      "3\n",
      "\n",
      "# \n",
      "# # \n",
      "# # # \n"
     ]
    }
   ],
   "source": [
    "# Solution for right triangle \n",
    "\n",
    "triangle_char = input('Enter a character:\\n')\n",
    "triangle_height = int(input('Enter triangle height:\\n'))\n",
    "print('')\n",
    "\n",
    "for i in range (triangle_height):\n",
    "    print((triangle_char+\" \") * (i + 1))"
   ]
  },
  {
   "cell_type": "code",
   "execution_count": 28,
   "metadata": {},
   "outputs": [
    {
     "name": "stdout",
     "output_type": "stream",
     "text": [
      "shoes 5\n",
      "Eating 5 shoes a day keeps the doctor away.\n",
      "chair 115\n",
      "Eating 115 chair a day keeps the doctor away.\n",
      "apples 1247\n",
      "Eating 1247 apples a day keeps the doctor away.\n",
      "quit\n"
     ]
    }
   ],
   "source": [
    "# Solution to LAB 4.17 Mad Lib - Loops\n",
    "\n",
    "ans = input()\n",
    "tokens = ans.split(\" \")\n",
    "libs = 1\n",
    "\n",
    "while libs == 1:\n",
    "    if 'quit' not in tokens:\n",
    "        print('Eating', tokens[1] + ' ' + tokens[0] + ' a day keeps the doctor away.')\n",
    "        ans = input()\n",
    "        tokens = ans.split(\" \")\n",
    "        libs = 1\n",
    "    else:\n",
    "#       print(\"goodbye\")\n",
    "        libs = 2\n"
   ]
  },
  {
   "cell_type": "code",
   "execution_count": 1,
   "metadata": {},
   "outputs": [
    {
     "name": "stdout",
     "output_type": "stream",
     "text": [
      "What seed should be used? 20\n"
     ]
    }
   ],
   "source": [
    "import random\n",
    "\n",
    "seedVal = int(input(\"What seed should be used? \"))\n",
    "random.seed(seedVal)"
   ]
  },
  {
   "cell_type": "code",
   "execution_count": 33,
   "metadata": {},
   "outputs": [
    {
     "name": "stdout",
     "output_type": "stream",
     "text": [
      "What is the lower number? 1\n",
      "What is the upper number? 100\n",
      "Got it, thanks!\n",
      "Please enter a number between 1 and 100: 50\n",
      "Too low, try going higher!\n",
      "Please enter a number between 1 and 100: 60\n",
      "Too low, try going higher!\n",
      "Please enter a number between 1 and 100: 70\n",
      "Too high, try going lower!\n",
      "Please enter a number between 1 and 100: 65\n",
      "Too high, try going lower!\n",
      "Please enter a number between 1 and 100: 62\n",
      "Too high, try going lower!\n",
      "Please enter a number between 1 and 100: 61\n",
      "61 is correct, you win!\n"
     ]
    }
   ],
   "source": [
    "# Higher Lower Game\n",
    "\n",
    "import random\n",
    "\n",
    "lower = int(input('What is the lower number? '))\n",
    "upper = int(input('What is the upper number? '))\n",
    "\n",
    "invalid = 1\n",
    "\n",
    "while invalid == 1:\n",
    "    if upper <= lower:\n",
    "        print('Invalid entry, upper must be a higher number than lower. Please try again.')\n",
    "        upper = int(input('What is the upper number? '))\n",
    "        invalid = 1\n",
    "    else:\n",
    "        print('Got it, thanks!')\n",
    "        invalid = 2\n",
    "        \n",
    "secret = random.randint(int(lower), int(upper))\n",
    "guess = int(input('Please enter a number between ' + str(lower) + ' and ' + str(upper) + ': '))\n",
    "\n",
    "guessbreak = 1\n",
    "\n",
    "while guessbreak == 1:\n",
    "    if guess == secret:\n",
    "        print(str(guess) + ' is correct, you win!')\n",
    "        guessbreak = 2\n",
    "    elif guess < secret:\n",
    "        print('Too low, try going higher!')\n",
    "        guess = int(input('Please enter a number between ' + str(lower) + ' and ' + str(upper) + ': '))\n",
    "        guessbreak = 1\n",
    "    elif guess > secret:\n",
    "        print('Too high, try going lower!')\n",
    "        guess = int(input('Please enter a number between ' + str(lower) + ' and ' + str(upper) + ': '))\n",
    "        guessbreak = 1\n",
    "        "
   ]
  },
  {
   "cell_type": "code",
   "execution_count": 55,
   "metadata": {},
   "outputs": [
    {
     "name": "stdout",
     "output_type": "stream",
     "text": [
      "What is your name? Adam\n",
      "Welcome to the higher/lower game Adam! \n",
      "\n",
      "Please enter the lower number: 10\n",
      "Please enter the upper number: 7\n",
      "Invalid entry, upper must be a higher number than lower. Please try again. \n",
      "\n",
      "What is the upper number? 50\n",
      "Got it, thanks! \n",
      "\n",
      "Please enter a number between 10 and 50: 100\n",
      "Invalid entry, guess must be between 10 and 50. Please try again.\n",
      "Please enter a number between 10 and 50: 42\n",
      "Too low, try going higher! \n",
      "\n",
      "Please enter a number between 10 and 50: 52\n",
      "Too high, try going lower! \n",
      "\n",
      "Please enter a number between 10 and 50: 47\n",
      "Too high, try going lower! \n",
      "\n",
      "Please enter a number between 10 and 50: 45\n",
      "Too high, try going lower! \n",
      "\n",
      "Please enter a number between 10 and 50: 42\n",
      "Too low, try going higher! \n",
      "\n",
      "Please enter a number between 10 and 50: 43\n",
      "43 is correct, you win!\n"
     ]
    }
   ],
   "source": [
    "# Higher Lower Game - Complete\n",
    "\n",
    "# Package import section for random generation and pauses\n",
    "import random\n",
    "import time\n",
    "\n",
    "# User welcome and initial input section\n",
    "user_name = input('What is your name? ')\n",
    "print('Welcome to the higher/lower game ' + str(user_name) + '! \\n')\n",
    "time.sleep(1)\n",
    "lower = int(input('Please enter the lower number: '))\n",
    "upper = int(input('Please enter the upper number: '))\n",
    "\n",
    "# Initial check loop to be sure that the higher number is actually higher then lower number\n",
    "invalid = 1\n",
    "\n",
    "while invalid == 1:\n",
    "    if upper <= lower:\n",
    "        print('Invalid entry, upper must be a higher number than lower. Please try again. \\n')\n",
    "        time.sleep(0.5)\n",
    "        upper = int(input('What is the upper number? '))\n",
    "        invalid = 1\n",
    "    else:\n",
    "        print('Got it, thanks! \\n')\n",
    "        time.sleep(1)\n",
    "        invalid = 2\n",
    "\n",
    "# Stores secret number and gets users first guess\n",
    "secret = random.randint(int(lower), int(upper))\n",
    "guess = int(input('Please enter a number between ' + str(lower) + ' and ' + str(upper) + ': '))\n",
    "\n",
    "# Second check loop section to be sure user guess is between upper and lower numbers\n",
    "# FIXME Needs to be nested in order to check every input after first\n",
    "badguess = 1\n",
    "\n",
    "while badguess == 1:\n",
    "    if int(guess) < int(lower) or int(guess) > int(upper):\n",
    "        print('Invalid entry, guess must be between ' + str(lower) + ' and ' + str(upper) + '. Please try again.')\n",
    "        time.sleep(0.5)\n",
    "        guess = int(input('Please enter a number between ' + str(lower) + ' and ' + str(upper) + ': '))\n",
    "        badguess = 1\n",
    "    else:\n",
    "        badguess = 2\n",
    "\n",
    "# Guessing loop section that takes input and compares it to secret stored earlier \n",
    "guessbreak = 1\n",
    "\n",
    "while guessbreak == 1:\n",
    "    if guess == secret:\n",
    "        print(str(guess) + ' is correct, you win!')\n",
    "        guessbreak = 2\n",
    "    elif guess < secret:\n",
    "        print('Too low, try going higher! \\n')\n",
    "        time.sleep(0.5)\n",
    "        guess = int(input('Please enter a number between ' + str(lower) + ' and ' + str(upper) + ': '))\n",
    "        guessbreak = 1\n",
    "    elif guess > secret:\n",
    "        print('Too high, try going lower! \\n')\n",
    "        time.sleep(0.5)\n",
    "        guess = int(input('Please enter a number between ' + str(lower) + ' and ' + str(upper) + ': '))\n",
    "        guessbreak = 1\n",
    "        "
   ]
  }
 ],
 "metadata": {
  "kernelspec": {
   "display_name": "Python 3",
   "language": "python",
   "name": "python3"
  },
  "language_info": {
   "codemirror_mode": {
    "name": "ipython",
    "version": 3
   },
   "file_extension": ".py",
   "mimetype": "text/x-python",
   "name": "python",
   "nbconvert_exporter": "python",
   "pygments_lexer": "ipython3",
   "version": "3.8.3"
  }
 },
 "nbformat": 4,
 "nbformat_minor": 4
}
