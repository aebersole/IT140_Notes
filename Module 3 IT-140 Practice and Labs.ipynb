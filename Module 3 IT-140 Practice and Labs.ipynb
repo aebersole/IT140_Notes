{
 "cells": [
  {
   "cell_type": "code",
   "execution_count": 5,
   "metadata": {},
   "outputs": [
    {
     "name": "stdout",
     "output_type": "stream",
     "text": [
      "7\n",
      "5\n",
      "4\n",
      "4\n"
     ]
    }
   ],
   "source": [
    "# Solution to finding the smallest of three numbers\n",
    "\n",
    "num_one = int(input())\n",
    "num_two = int(input())\n",
    "num_three = int(input())\n",
    "\n",
    "if(num_one<=num_two):\n",
    "      if(num_one<=num_three):\n",
    "            smallest_num=num_one\n",
    "      else:\n",
    "          smallest_num=num_three\n",
    "else:\n",
    "      if (num_two<=num_three):\n",
    "        smallest_num=num_two\n",
    "      else:\n",
    "        smallest_num=num_three\n",
    "        \n",
    "print(smallest_num)"
   ]
  },
  {
   "cell_type": "code",
   "execution_count": 3,
   "metadata": {},
   "outputs": [
    {
     "name": "stdout",
     "output_type": "stream",
     "text": [
      "February\n",
      "11\n",
      "Winter\n"
     ]
    }
   ],
   "source": [
    "# Season Calculator solution, seems way too big, there must be a better solution.\n",
    "\n",
    "input_month = input()\n",
    "input_day = int(input())\n",
    "\n",
    "if input_month in ('January', 'February', 'March'):\n",
    "    if input_month == 'January' and input_day > 31 or input_day < 0:\n",
    "        print('Invalid')\n",
    "    elif input_month == 'February' and input_day > 28 or input_day < 0:\n",
    "        print('Invalid')\n",
    "    elif input_month == 'March' and input_day > 31 or input_day < 0:\n",
    "        print('Invalid')\n",
    "    elif input_month == 'March' and input_day > 19 and input_day > 0:\n",
    "        print('Spring')\n",
    "    else:\n",
    "        print('Winter')\n",
    "elif input_month in ('April', 'May', 'June'):\n",
    "    if input_month == 'April' and input_day > 30 or input_day < 0:\n",
    "        print('Invalid')\n",
    "    elif input_month == 'May' and input_day > 31 or input_day < 0:\n",
    "        print('Invalid')\n",
    "    elif input_month == 'June' and input_day > 30 or input_day < 0:\n",
    "        print('Invalid')\n",
    "    elif input_month == 'June' and input_day > 20 and input_day > 0:\n",
    "        print('Summer')\n",
    "    else:\n",
    "        print('Spring')\n",
    "elif input_month in ('July', 'August', 'September'):\n",
    "    if input_month == 'July' and input_day > 31 or input_day < 0:\n",
    "        print('Invalid')\n",
    "    elif input_month == 'August' and input_day > 31 or input_day < 0:\n",
    "        print('Invalid')\n",
    "    elif input_month == 'September' and input_day > 30 or input_day < 0:\n",
    "        print('Invalid')\n",
    "    elif input_month == 'September' and input_day > 21 and input_day > 0:\n",
    "        print('Autumn')\n",
    "    else:\n",
    "        print('Summer')\n",
    "elif input_month in ('October', 'November', 'December'):\n",
    "    if input_month == 'October' and input_day > 31 or input_day < 0:\n",
    "        print('Invalid')\n",
    "    elif input_month == 'November' and input_day > 30 or input_day < 0:\n",
    "        print('Invalid')\n",
    "    elif input_month == 'December' and input_day > 31 or input_day < 0:\n",
    "        print('Invalid')\n",
    "    elif input_month == 'December' and input_day > 20 and input_day > 0:\n",
    "        print('Winter')\n",
    "    else:\n",
    "        print('Autumn')    \n",
    "else:\n",
    "    print('Invalid')"
   ]
  },
  {
   "cell_type": "code",
   "execution_count": 27,
   "metadata": {},
   "outputs": [
    {
     "name": "stdout",
     "output_type": "stream",
     "text": [
      "345\n",
      "3 Dollars\n",
      "1 Quarter\n",
      "2 Dimes\n"
     ]
    }
   ],
   "source": [
    "# solution for change calculator, works but can be expanded upon\n",
    "\n",
    "user_change = int(input())\n",
    "\n",
    "if user_change == 0:\n",
    "    print('No change')\n",
    "else:\n",
    "    dollars = user_change // 100\n",
    "    quarters = (user_change % 100) // 25\n",
    "    dimes = (user_change % 25) // 10\n",
    "    nickels = (user_change % 25) % 10 // 5\n",
    "    pennies = ((user_change % 25) % 10) % 5\n",
    "    if dollars == 1:\n",
    "        print(dollars, 'Dollar')\n",
    "    else:\n",
    "        if dollars > 1:\n",
    "            print(dollars, 'Dollars')\n",
    "    if quarters == 1: \n",
    "        print(quarters, 'Quarter')\n",
    "    else:\n",
    "        if quarters > 1:\n",
    "            print(quarters, 'Quarters')\n",
    "    if dimes == 1:   \n",
    "        print(dimes, 'Dime')\n",
    "    else:\n",
    "        if dimes > 1:\n",
    "            print(dimes, 'Dimes')\n",
    "    if nickels == 1:\n",
    "        print(nickels, 'Nickel')\n",
    "    else:\n",
    "        if nickels > 1:\n",
    "            print(nickels, 'Nickels')\n",
    "    if pennies == 1:\n",
    "        print(pennies, 'Penny')\n",
    "    else:\n",
    "        if pennies > 1:\n",
    "            print(pennies, 'Pennies')"
   ]
  },
  {
   "cell_type": "code",
   "execution_count": null,
   "metadata": {},
   "outputs": [],
   "source": []
  }
 ],
 "metadata": {
  "kernelspec": {
   "display_name": "Python 3",
   "language": "python",
   "name": "python3"
  },
  "language_info": {
   "codemirror_mode": {
    "name": "ipython",
    "version": 3
   },
   "file_extension": ".py",
   "mimetype": "text/x-python",
   "name": "python",
   "nbconvert_exporter": "python",
   "pygments_lexer": "ipython3",
   "version": "3.8.3"
  }
 },
 "nbformat": 4,
 "nbformat_minor": 4
}
