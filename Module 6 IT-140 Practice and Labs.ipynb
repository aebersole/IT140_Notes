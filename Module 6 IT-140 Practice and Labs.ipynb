{
 "cells": [
  {
   "cell_type": "code",
   "execution_count": 9,
   "metadata": {},
   "outputs": [
    {
     "name": "stdout",
     "output_type": "stream",
     "text": [
      "3\n",
      "Enter a number: 9\n",
      "Enter a number: 5\n",
      "Enter a number: 2\n",
      "user_guesses: [9, 5, 2]\n"
     ]
    }
   ],
   "source": [
    "# Solution for 6.3.1: Get user guesses.\n",
    "\n",
    "num_guesses = int(input())\n",
    "user_guesses = []\n",
    "\n",
    "guess = 0\n",
    "while guess < num_guesses:\n",
    "    num = int(input())\n",
    "    user_guesses.append(num)\n",
    "    guess += 1\n",
    "\n",
    "print('user_guesses:', user_guesses)"
   ]
  },
  {
   "cell_type": "code",
   "execution_count": 4,
   "metadata": {},
   "outputs": [
    {
     "name": "stdout",
     "output_type": "stream",
     "text": [
      "101 87 107 93\n",
      "Sum extra: 8\n"
     ]
    }
   ],
   "source": [
    "# Solution for 6.3.2: Sum extra credit.\n",
    "\n",
    "user_input = input()\n",
    "test_grades = list(map(int, user_input.split())) # test_grades is an integer list of test scores\n",
    "\n",
    "sum_extra = -999 # Initialize 0 before your loop\n",
    "\n",
    "# sum_extra = sum([grade - 100 for grade in test_grades if grade > 100])\n",
    "sum_extra = sum(grade - 100 for grade in test_grades if grade > 100)\n",
    "\n",
    "print('Sum extra:', sum_extra)"
   ]
  },
  {
   "cell_type": "code",
   "execution_count": 15,
   "metadata": {},
   "outputs": [
    {
     "name": "stdout",
     "output_type": "stream",
     "text": [
      "90 92 94 95\n",
      "90 -> 92 -> 94 -> 95 \n"
     ]
    }
   ],
   "source": [
    "# Solution for 6.3.3: Hourly temperature reporting.\n",
    "\n",
    "user_input = input()\n",
    "hourly_temperature = user_input.split()\n",
    "\n",
    "for temp in hourly_temperature:\n",
    "    if temp != hourly_temperature[len(hourly_temperature)-1]:\n",
    "           print(temp, end = \" -> \")\n",
    "    else:\n",
    "           print(temp + \" \")"
   ]
  },
  {
   "cell_type": "code",
   "execution_count": 20,
   "metadata": {},
   "outputs": [
    {
     "name": "stdout",
     "output_type": "stream",
     "text": [
      "1 2 3,2 4 6,3 6 9\n",
      "1 | 2 | 3\n",
      "2 | 4 | 6\n",
      "3 | 6 | 9\n"
     ]
    }
   ],
   "source": [
    "# Solution for 6.5.1: Print multiplication table\n",
    "\n",
    "user_input= input()\n",
    "lines = user_input.split(',')\n",
    "\n",
    "# This line uses a construct called a list comprehension, introduced elsewhere,\n",
    "# to convert the input string into a two-dimensional list.\n",
    "# Ex: 1 2, 2 4 is converted to [ [1, 2], [2, 4] ]\n",
    "\n",
    "mult_table = [[int(num) for num in line.split()] for line in lines]\n",
    "\n",
    "for row in mult_table:\n",
    "    print(\" | \".join([str(cell) for cell in row]))"
   ]
  },
  {
   "cell_type": "code",
   "execution_count": null,
   "metadata": {},
   "outputs": [],
   "source": [
    "n = 0  # count of numbers entered\n",
    "s = 0.0  # sum of all numbers entered\n",
    "\n",
    "while True:\n",
    "    inp = input()\n",
    "\n",
    "    try:\n",
    "        num = float(inp)\n",
    "    except:\n",
    "        print('Invalid input')\n",
    "        continue\n",
    "\n",
    "    n += 1\n",
    "    s += num\n",
    "\n",
    "print(\"Average\", s / n)"
   ]
  },
  {
   "cell_type": "code",
   "execution_count": 10,
   "metadata": {},
   "outputs": [
    {
     "name": "stdout",
     "output_type": "stream",
     "text": [
      "Spain:Madrid,Togo:Lome,Prussia: Konigsberg\n",
      "Prussia deleted? Yes.\n",
      "Spain deleted? No.\n",
      "Togo deleted? No.\n"
     ]
    }
   ],
   "source": [
    "# Solution to 6.14.1: Delete from dictionary.\n",
    "\n",
    "user_input = input()\n",
    "entries = user_input.split(',')\n",
    "country_capital = {}\n",
    "\n",
    "for pair in entries:\n",
    "    split_pair = pair.split(':')\n",
    "    country_capital[split_pair[0]] = split_pair[1]\n",
    "    # country_capital is a dictionary, Ex. { 'Germany': 'Berlin', 'France': 'Paris'\n",
    "\n",
    "country_capital.pop('Prussia')\n",
    "\n",
    "print('Prussia deleted?', end=' ')\n",
    "if 'Prussia' in country_capital:\n",
    "    print('No.')\n",
    "else:\n",
    "    print('Yes.')\n",
    "\n",
    "print ('Spain deleted?', end=' ')\n",
    "if 'Spain' in country_capital:\n",
    "    print('No.')\n",
    "else:\n",
    "    print('Yes.')\n",
    "\n",
    "print ('Togo deleted?', end=' ')\n",
    "if 'Togo' in country_capital:\n",
    "    print('No.')\n",
    "else:\n",
    "    print('Yes.')"
   ]
  },
  {
   "cell_type": "code",
   "execution_count": 1,
   "metadata": {},
   "outputs": [
    {
     "name": "stdout",
     "output_type": "stream",
     "text": [
      "China:1365830000,India:1247220000,United States:318463000,Indonesia:252164800\n",
      "China has 1365830000 people.\n",
      "India has 1247220000 people.\n",
      "United States has 318463000 people.\n",
      "Indonesia has 252164800 people.\n"
     ]
    }
   ],
   "source": [
    "# Solution for 6.16.1: Report country population\n",
    "\n",
    "user_input = input()\n",
    "entries = user_input.split(',')\n",
    "country_pop = {}\n",
    "\n",
    "for pair in entries:\n",
    "    split_pair = pair.split(':')\n",
    "    country_pop[split_pair[0]] = split_pair[1]\n",
    "    # country_pop is a dictionary, Ex: { 'Germany':'82790000', 'France':'67190000' }\n",
    "\n",
    "for country, pop in country_pop.items():\n",
    "\n",
    "    print(country, 'has', pop, 'people.')"
   ]
  },
  {
   "cell_type": "code",
   "execution_count": null,
   "metadata": {},
   "outputs": [],
   "source": []
  }
 ],
 "metadata": {
  "kernelspec": {
   "display_name": "Python 3",
   "language": "python",
   "name": "python3"
  },
  "language_info": {
   "codemirror_mode": {
    "name": "ipython",
    "version": 3
   },
   "file_extension": ".py",
   "mimetype": "text/x-python",
   "name": "python",
   "nbconvert_exporter": "python",
   "pygments_lexer": "ipython3",
   "version": "3.8.3"
  }
 },
 "nbformat": 4,
 "nbformat_minor": 4
}
