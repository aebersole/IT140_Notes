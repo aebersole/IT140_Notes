{
 "cells": [
  {
   "cell_type": "code",
   "execution_count": 9,
   "metadata": {},
   "outputs": [
    {
     "name": "stdout",
     "output_type": "stream",
     "text": [
      "Please enter your name: Adam\n",
      "Enter a generic location: the pool\n",
      "Enter a whole number between 1-100: 35\n",
      "Enter a plural noun: candles\n",
      "Adam went to the pool to buy 35 different types of candles\n"
     ]
    }
   ],
   "source": [
    "print(\"Please enter your name: \", end='')\n",
    "first_name = input()\n",
    "print(\"Enter a generic location: \", end='')\n",
    "generic_location = input()\n",
    "print(\"Enter a whole number between 1-100: \", end='')\n",
    "whole_number = int(input())\n",
    "print(\"Enter a plural noun: \", end='')\n",
    "plural_noun = input()\n",
    "print(first_name, 'went to', generic_location, 'to buy', whole_number, 'different types of', plural_noun)"
   ]
  },
  {
   "cell_type": "markdown",
   "metadata": {},
   "source": [
    "Enter integer:\n",
    "4\n",
    "You entered: 4\n",
    "4 squared is 16 \n",
    "And 4 cubed is 64 !!\n",
    "Enter another integer:\n",
    "5\n",
    "4 + 5 is 9\n",
    "4 * 5 is 20"
   ]
  },
  {
   "cell_type": "code",
   "execution_count": 12,
   "metadata": {},
   "outputs": [
    {
     "name": "stdout",
     "output_type": "stream",
     "text": [
      "Enter integer:\n",
      "3\n",
      "You entered: 3\n",
      "3 squared is 9\n",
      "And 3 cubed is 27 !!\n",
      "Enter another integer:\n",
      "7\n",
      "4 + 7 is 11\n",
      "4 * 7 is 28\n"
     ]
    }
   ],
   "source": [
    "user_num = int(input('Enter integer:\\n'))\n",
    "print(\"You entered:\", user_num)\n",
    "print(user_num, \"squared is\", user_num **2)\n",
    "print(\"And\", user_num, \"cubed is\", user_num **3, \"!!\")\n",
    "user_num = int(input('Enter another integer:\\n'))\n",
    "print(\"4 +\", user_num, \"is\", user_num + 4)\n",
    "print(\"4 *\", user_num, \"is\", user_num * 4)"
   ]
  },
  {
   "cell_type": "code",
   "execution_count": 1,
   "metadata": {},
   "outputs": [
    {
     "data": {
      "text/plain": [
       "1"
      ]
     },
     "execution_count": 1,
     "metadata": {},
     "output_type": "execute_result"
    }
   ],
   "source": [
    "51 % 2"
   ]
  },
  {
   "cell_type": "code",
   "execution_count": 3,
   "metadata": {},
   "outputs": [
    {
     "data": {
      "text/plain": [
       "8"
      ]
     },
     "execution_count": 3,
     "metadata": {},
     "output_type": "execute_result"
    }
   ],
   "source": [
    "78 % 10"
   ]
  },
  {
   "cell_type": "code",
   "execution_count": 4,
   "metadata": {},
   "outputs": [
    {
     "data": {
      "text/plain": [
       "6"
      ]
     },
     "execution_count": 4,
     "metadata": {},
     "output_type": "execute_result"
    }
   ],
   "source": [
    "596 % 10"
   ]
  },
  {
   "cell_type": "code",
   "execution_count": 5,
   "metadata": {},
   "outputs": [
    {
     "name": "stdout",
     "output_type": "stream",
     "text": [
      "1 18\n"
     ]
    }
   ],
   "source": [
    "x = 1   \n",
    "y = 2 * (x + 8)\n",
    "   \n",
    "print (x, y)"
   ]
  },
  {
   "cell_type": "code",
   "execution_count": 6,
   "metadata": {},
   "outputs": [
    {
     "name": "stdout",
     "output_type": "stream",
     "text": [
      "3 14\n"
     ]
    }
   ],
   "source": [
    "x = 3   \n",
    "y = (2 * (x + 1)) + 6\n",
    "   \n",
    "print (x, y)"
   ]
  },
  {
   "cell_type": "code",
   "execution_count": 9,
   "metadata": {},
   "outputs": [
    {
     "name": "stdout",
     "output_type": "stream",
     "text": [
      "17 4.25\n"
     ]
    }
   ],
   "source": [
    "x = 17   \n",
    "y = x / 4\n",
    "   \n",
    "print (x, y)"
   ]
  },
  {
   "cell_type": "code",
   "execution_count": 10,
   "metadata": {},
   "outputs": [
    {
     "name": "stdout",
     "output_type": "stream",
     "text": [
      "17 2\n"
     ]
    }
   ],
   "source": [
    "x = 17   \n",
    "y = x % 3\n",
    "   \n",
    "print (x, y)"
   ]
  },
  {
   "cell_type": "code",
   "execution_count": 12,
   "metadata": {},
   "outputs": [
    {
     "name": "stdout",
     "output_type": "stream",
     "text": [
      "4 18\n"
     ]
    }
   ],
   "source": [
    "a = 3\n",
    "x = 4   \n",
    "y = a * x\n",
    "y = y + 6\n",
    "   \n",
    "print (x, y)"
   ]
  },
  {
   "cell_type": "code",
   "execution_count": 19,
   "metadata": {},
   "outputs": [],
   "source": [
    "import math\n",
    "\n",
    "x = 2.3\n",
    "z = math.ceil(x)"
   ]
  },
  {
   "cell_type": "code",
   "execution_count": 20,
   "metadata": {},
   "outputs": [
    {
     "name": "stdout",
     "output_type": "stream",
     "text": [
      "\\c\\users\\juan\n"
     ]
    }
   ],
   "source": [
    "print('\\\\c\\\\users\\\\juan')"
   ]
  },
  {
   "cell_type": "code",
   "execution_count": 21,
   "metadata": {},
   "outputs": [
    {
     "name": "stdout",
     "output_type": "stream",
     "text": [
      "My name is 'Tator Tot'.\n"
     ]
    }
   ],
   "source": [
    "print('My name is \\'Tator Tot\\'.')"
   ]
  },
  {
   "cell_type": "code",
   "execution_count": 22,
   "metadata": {},
   "outputs": [
    {
     "name": "stdout",
     "output_type": "stream",
     "text": [
      "10...\n",
      "9...\n"
     ]
    }
   ],
   "source": [
    "print('10...\\n9...')"
   ]
  },
  {
   "cell_type": "code",
   "execution_count": 33,
   "metadata": {},
   "outputs": [
    {
     "name": "stdout",
     "output_type": "stream",
     "text": [
      "1000 500 250 "
     ]
    }
   ],
   "source": [
    "user_num = 2000\n",
    "x = 2\n",
    "\n",
    "print(user_num // x, end=' ')\n",
    "print(user_num // x // x, end=' ')\n",
    "print(user_num // x // x // x, end=' ')"
   ]
  },
  {
   "cell_type": "code",
   "execution_count": 37,
   "metadata": {},
   "outputs": [
    {
     "name": "stdout",
     "output_type": "stream",
     "text": [
      "49\n",
      "155\n",
      "148\n",
      "60\n",
      "Women: 580.94 calories\n",
      "Men: 891.47 calories\n"
     ]
    }
   ],
   "source": [
    "age_years = int(input())\n",
    "weight_pounds = float(input())\n",
    "heart_rate = int(input())\n",
    "time_minutes = float(input())\n",
    "\n",
    "calories_woman = ((age_years *0.074) - (weight_pounds *0.05741) + (heart_rate *0.4472) - 20.4022) *time_minutes / 4.184\n",
    "calories_man = ((age_years *0.2017) + (weight_pounds *0.09036) + (heart_rate *0.6309) - 55.0969) *time_minutes / 4.184\n",
    "\n",
    "print('Women: {:.2f} calories'.format(calories_woman))\n",
    "print('Men: {:.2f} calories'.format(calories_man))\n"
   ]
  },
  {
   "cell_type": "code",
   "execution_count": 39,
   "metadata": {},
   "outputs": [
    {
     "name": "stdout",
     "output_type": "stream",
     "text": [
      "Enter integer (32 - 126):\n",
      "45\n",
      "Enter floating point number ex. 2.55:\n",
      "6.2\n",
      "Enter a single letter (A - Z):\n",
      "F\n",
      "Enter a string ex. Hello!:\n",
      "Hello!\n",
      "45 6.2 F Hello!\n",
      "Hello! F 6.2 45\n",
      "45 converted to a character is -\n"
     ]
    }
   ],
   "source": [
    "user_int = int(input('Enter integer (32 - 126):\\n'))\n",
    "user_float = float(input('Enter floating point number ex. 2.55:\\n'))\n",
    "user_char = input('Enter a single letter (A - Z):\\n')\n",
    "user_string = input('Enter a string ex. Hello!:\\n')\n",
    "\n",
    "# FIXME (1): Finish reading other items into variables, then output the four values on a single line separated by a space\n",
    "print(user_int, user_float, user_char, user_string)\n",
    "\n",
    "    \n",
    "# FIXME (2): Output the four values in reverse\n",
    "print(user_string, user_char, user_float, user_int)\n",
    "\n",
    "\n",
    "# FIXME (3): Convert the integer to a characer, and output that character\n",
    "print(user_int, 'converted to a character is', chr(user_int))\n",
    "\n"
   ]
  },
  {
   "cell_type": "code",
   "execution_count": null,
   "metadata": {},
   "outputs": [],
   "source": []
  }
 ],
 "metadata": {
  "kernelspec": {
   "display_name": "Python 3",
   "language": "python",
   "name": "python3"
  },
  "language_info": {
   "codemirror_mode": {
    "name": "ipython",
    "version": 3
   },
   "file_extension": ".py",
   "mimetype": "text/x-python",
   "name": "python",
   "nbconvert_exporter": "python",
   "pygments_lexer": "ipython3",
   "version": "3.8.3"
  }
 },
 "nbformat": 4,
 "nbformat_minor": 4
}
