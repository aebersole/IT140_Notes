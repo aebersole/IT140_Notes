{
 "cells": [
  {
   "cell_type": "code",
   "execution_count": 13,
   "metadata": {},
   "outputs": [
    {
     "name": "stdout",
     "output_type": "stream",
     "text": [
      "4.5\n",
      "2.1\n",
      "3.0\n",
      "Volume for 4.5, 2.1, 3.0 is: 9.450000000000001\n"
     ]
    }
   ],
   "source": [
    "# 5.3.3 Challenge Solution\n",
    "\n",
    "def pyramid_volume(base_length, base_width, pyramid_height):\n",
    "    base_area = base_length * base_width\n",
    "    volume = base_area * pyramid_height * 1/3\n",
    "    return volume\n",
    "    \n",
    "length = float(input())\n",
    "width = float(input())\n",
    "height = float(input())\n",
    "print('Volume for 4.5, 2.1, 3.0 is:', pyramid_volume(length, width, height))"
   ]
  },
  {
   "cell_type": "code",
   "execution_count": 2,
   "metadata": {},
   "outputs": [
    {
     "name": "stdout",
     "output_type": "stream",
     "text": [
      "70\n",
      "100\n",
      "Miles: 116.666667\n"
     ]
    }
   ],
   "source": [
    "# 5.5.1 Miles Traveled Solution\n",
    "\n",
    "def mph_and_minutes_to_miles(miles_per_hour, minutes_traveled):\n",
    "    hours_traveled = minutes_traveled / 60.0\n",
    "    miles_traveled = hours_traveled * miles_per_hour\n",
    "    return miles_traveled\n",
    "\n",
    "miles_per_hour = float(input())\n",
    "minutes_traveled = float(input())\n",
    "\n",
    "print('Miles: {:f}'.format(mph_and_minutes_to_miles(miles_per_hour, minutes_traveled)))"
   ]
  },
  {
   "cell_type": "code",
   "execution_count": 1,
   "metadata": {},
   "outputs": [
    {
     "name": "stdout",
     "output_type": "stream",
     "text": [
      "6\n",
      "36 seconds\n"
     ]
    }
   ],
   "source": [
    "def print_popcorn_time(user_ounces):\n",
    "    \n",
    "    if user_ounces < 3:\n",
    "        print('Too small')\n",
    "    elif user_ounces > 10:\n",
    "        print('Too big')\n",
    "    else:\n",
    "        print(6 * user_ounces, 'seconds')\n",
    "\n",
    "user_ounces = int(input())\n",
    "print_popcorn_time(user_ounces)"
   ]
  },
  {
   "cell_type": "code",
   "execution_count": 26,
   "metadata": {},
   "outputs": [
    {
     "name": "stdout",
     "output_type": "stream",
     "text": [
      "2\n",
      "1 : Lather and rinse.\n",
      "2 : Lather and rinse.\n",
      "Done.\n"
     ]
    }
   ],
   "source": [
    "# Solution for 5.7.2: Function with loop: Shampoo.\n",
    "\n",
    "def shampoo_instructions(user_cycles):\n",
    "    count = user_cycles \n",
    "    \n",
    "    if user_cycles < 1:\n",
    "        print('Too few')\n",
    "    elif user_cycles > 4:\n",
    "        print('Too many')\n",
    "    else:\n",
    "        i = 0\n",
    "        while i < user_cycles:\n",
    "            print ( i + 1, \": Lather and rinse.\")\n",
    "            i = i + 1\n",
    "        print('Done.')\n",
    "\n",
    "user_cycles = int(input())\n",
    "shampoo_instructions(user_cycles)"
   ]
  },
  {
   "cell_type": "code",
   "execution_count": 34,
   "metadata": {},
   "outputs": [
    {
     "name": "stdout",
     "output_type": "stream",
     "text": [
      "all,good,things,must,end,here\n",
      "['here', 'good', 'things', 'must', 'end', 'all']\n"
     ]
    }
   ],
   "source": [
    "# Solution to 5.12.1: Change order of elements in function list argument.\n",
    "\n",
    "def swap(list):\n",
    "    list[0], list[-1] = list[-1], list[0]\n",
    "    return list\n",
    "\n",
    "values_list = input().split(',')  # Program receives comma-separated values like 5,4,12,19\n",
    "swap(values_list)\n",
    "\n",
    "print(values_list)"
   ]
  },
  {
   "cell_type": "code",
   "execution_count": 3,
   "metadata": {},
   "outputs": [
    {
     "name": "stdout",
     "output_type": "stream",
     "text": [
      "100\n",
      "4\n",
      "Cost per diner: 31.0\n",
      "0.0125\n",
      "0.25\n"
     ]
    },
    {
     "ename": "ValueError",
     "evalue": "invalid literal for int() with base 10: '0.25'",
     "output_type": "error",
     "traceback": [
      "\u001b[1;31m---------------------------------------------------------------------------\u001b[0m",
      "\u001b[1;31mValueError\u001b[0m                                Traceback (most recent call last)",
      "\u001b[1;32m<ipython-input-3-efbff549846e>\u001b[0m in \u001b[0;36m<module>\u001b[1;34m\u001b[0m\n\u001b[0;32m     16\u001b[0m \u001b[1;33m\u001b[0m\u001b[0m\n\u001b[0;32m     17\u001b[0m \u001b[0mbill\u001b[0m \u001b[1;33m=\u001b[0m \u001b[0mfloat\u001b[0m\u001b[1;33m(\u001b[0m\u001b[0minput\u001b[0m\u001b[1;33m(\u001b[0m\u001b[1;33m)\u001b[0m\u001b[1;33m)\u001b[0m\u001b[1;33m\u001b[0m\u001b[1;33m\u001b[0m\u001b[0m\n\u001b[1;32m---> 18\u001b[1;33m \u001b[0mpeople\u001b[0m \u001b[1;33m=\u001b[0m \u001b[0mint\u001b[0m\u001b[1;33m(\u001b[0m\u001b[0minput\u001b[0m\u001b[1;33m(\u001b[0m\u001b[1;33m)\u001b[0m\u001b[1;33m)\u001b[0m\u001b[1;33m\u001b[0m\u001b[1;33m\u001b[0m\u001b[0m\n\u001b[0m\u001b[0;32m     19\u001b[0m \u001b[0mnew_tax_percentage\u001b[0m \u001b[1;33m=\u001b[0m \u001b[0mfloat\u001b[0m\u001b[1;33m(\u001b[0m\u001b[0minput\u001b[0m\u001b[1;33m(\u001b[0m\u001b[1;33m)\u001b[0m\u001b[1;33m)\u001b[0m\u001b[1;33m\u001b[0m\u001b[1;33m\u001b[0m\u001b[0m\n\u001b[0;32m     20\u001b[0m \u001b[0mnew_tip_percentage\u001b[0m \u001b[1;33m=\u001b[0m \u001b[0mfloat\u001b[0m\u001b[1;33m(\u001b[0m\u001b[0minput\u001b[0m\u001b[1;33m(\u001b[0m\u001b[1;33m)\u001b[0m\u001b[1;33m)\u001b[0m\u001b[1;33m\u001b[0m\u001b[1;33m\u001b[0m\u001b[0m\n",
      "\u001b[1;31mValueError\u001b[0m: invalid literal for int() with base 10: '0.25'"
     ]
    }
   ],
   "source": [
    "# Solution to 5.13.2: Default parameters: Calculate splitting a check between diners.\n",
    "\n",
    "def split_check(bill, people, tax_percentage=0.09, tip_percentage=0.15):\n",
    "    tax = bill * tax_percentage\n",
    "    tip = bill * tip_percentage \n",
    "    cost_per = (bill + tax + tip) / people\n",
    "    return cost_per\n",
    "    \n",
    "    \n",
    "\n",
    "bill = float(input())\n",
    "people = int(input())\n",
    "\n",
    "# Cost per diner at the default tax and tip percentages\n",
    "print('Cost per diner:', split_check(bill, people))\n",
    "\n",
    "bill = float(input())\n",
    "people = int(input())\n",
    "new_tax_percentage = float(input())\n",
    "new_tip_percentage = float(input())\n",
    "\n",
    "# Cost per diner at different tax and tip percentages\n",
    "print('Cost per diner:', split_check(bill, people, new_tax_percentage, new_tip_percentage))"
   ]
  },
  {
   "cell_type": "code",
   "execution_count": 5,
   "metadata": {},
   "outputs": [
    {
     "name": "stdout",
     "output_type": "stream",
     "text": [
      "Enter first number :8\n",
      "Enter second number :3\n",
      "3 8\n"
     ]
    }
   ],
   "source": [
    "# Solution for 5.18.1: LAB: Swapping variables\n",
    "\n",
    "def swap_values(user_val1, user_val2):  \n",
    "\n",
    "   return (user_val2, user_val1) \n",
    "\n",
    "if __name__ == '__main__':\n",
    "\n",
    "   n1 = int(input()) \n",
    "\n",
    "   n2 = int(input()) \n",
    "\n",
    "   (n1,n2) = swap_values(n1,n2) \n",
    "\n",
    "   print(n1, n2) "
   ]
  },
  {
   "cell_type": "code",
   "execution_count": 52,
   "metadata": {},
   "outputs": [
    {
     "name": "stdout",
     "output_type": "stream",
     "text": [
      "45\n",
      "1 quarter\n",
      "2 dimes\n"
     ]
    }
   ],
   "source": [
    "# Solution for 5.19 LAB: Exact change - functions\n",
    "\n",
    "def exact_change(user_total):\n",
    "    dollars = user_total//100fin\n",
    "    user_total %=100\n",
    "    quarters = user_total//25\n",
    "    user_total %=25\n",
    "    dimes = user_total//10\n",
    "    user_total %=10\n",
    "    nickels = user_total//5\n",
    "    user_total %=5\n",
    "    pennies = user_total\n",
    "    return dollars, quarters, dimes, nickels, pennies\n",
    "\n",
    "\n",
    "if __name__ == '__main__': \n",
    "    input_val = int(input())    \n",
    "    num_dollars, num_quarters, num_dimes, num_nickels, num_pennies = exact_change(input_val)\n",
    "    \n",
    "    if input_val <= 0:\n",
    "        print('no change')\n",
    "    else:\n",
    "        \n",
    "        if num_dollars >1:\n",
    "            print('%d dollars' % num_dollars)\n",
    "        elif num_dollars ==1:\n",
    "            print('%d dollar' % num_dollars)\n",
    "        if num_quarters > 1:\n",
    "            print('%d quarters' % num_quarters)\n",
    "        elif num_quarters ==1:\n",
    "            print('%d quarter' % num_quarters)\n",
    "        if num_dimes >1:\n",
    "            print('%d dimes' % num_dimes)\n",
    "        elif num_dimes ==1:\n",
    "            print('%d dime' % num_dimes)\n",
    "        if num_nickels >1:\n",
    "            print('%d nickels' % num_nickels)\n",
    "        elif num_nickels ==1:\n",
    "            print('%d nickel' % num_nickels)\n",
    "        if num_pennies >1:\n",
    "            print('%d pennies' % num_pennies)\n",
    "        elif num_pennies ==1:\n",
    "            print('%d penny' % num_pennies)"
   ]
  },
  {
   "cell_type": "code",
   "execution_count": 35,
   "metadata": {},
   "outputs": [
    {
     "name": "stdout",
     "output_type": "stream",
     "text": [
      "100.0\n",
      "1.0\n",
      "273.0\n",
      "Gas volume: 22.698481533 m^3\n"
     ]
    }
   ],
   "source": [
    "# Solution to 5.17.1: Function to compute gas volume.\n",
    "\n",
    "gas_const = 8.3144621\n",
    "\n",
    "def compute_gas_volume(gas_pressure, gas_temperature, gas_moles):\n",
    "    return gas_moles * gas_const * gas_temperature / gas_pressure \n",
    "    \n",
    "\n",
    "gas_pressure = float(input())\n",
    "gas_moles = float(input())\n",
    "gas_temperature = float(input())\n",
    "gas_volume = 0.0\n",
    "\n",
    "gas_volume = compute_gas_volume(gas_pressure, gas_temperature, gas_moles)\n",
    "print('Gas volume:', gas_volume, 'm^3')"
   ]
  },
  {
   "cell_type": "code",
   "execution_count": 57,
   "metadata": {},
   "outputs": [
    {
     "name": "stdout",
     "output_type": "stream",
     "text": [
      "5.0\n",
      "10.0\n",
      "3.0\n",
      "7.0\n",
      "max_sum is: 17.0\n"
     ]
    }
   ],
   "source": [
    "# Solution to 5.3.2: Function call in expression.\n",
    "\n",
    "def find_max(num_1, num_2):\n",
    "   max_val = 0.0\n",
    "\n",
    "   if (num_1 > num_2):  # if num1 is greater than num2,\n",
    "      max_val = num_1   # then num1 is the maxVal.\n",
    "   else:                # Otherwise,\n",
    "      max_val = num_2   # num2 is the maxVal\n",
    "   return max_val\n",
    "\n",
    "max_sum = 0.0\n",
    "\n",
    "num_a = float(input())\n",
    "num_b = float(input())\n",
    "num_y = float(input())\n",
    "num_z = float(input())\n",
    "\n",
    "max_sum = find_max(num_a,num_b)+find_max(num_y,num_z)\n",
    "\n",
    "print('max_sum is:', max_sum)"
   ]
  },
  {
   "cell_type": "code",
   "execution_count": null,
   "metadata": {},
   "outputs": [],
   "source": []
  }
 ],
 "metadata": {
  "kernelspec": {
   "display_name": "Python 3",
   "language": "python",
   "name": "python3"
  },
  "language_info": {
   "codemirror_mode": {
    "name": "ipython",
    "version": 3
   },
   "file_extension": ".py",
   "mimetype": "text/x-python",
   "name": "python",
   "nbconvert_exporter": "python",
   "pygments_lexer": "ipython3",
   "version": "3.8.3"
  }
 },
 "nbformat": 4,
 "nbformat_minor": 4
}
